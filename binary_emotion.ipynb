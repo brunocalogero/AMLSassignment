{
 "cells": [
  {
   "cell_type": "markdown",
   "metadata": {},
   "source": [
    "# Binary Task - Emotion Recognition"
   ]
  },
  {
   "cell_type": "code",
   "execution_count": 11,
   "metadata": {},
   "outputs": [],
   "source": [
    "import time\n",
    "import os\n",
    "import cv2\n",
    "\n",
    "import datetime as dt\n",
    "import pandas as pd\n",
    "import matplotlib.pyplot as plt\n",
    "import numpy as np\n",
    "\n",
    "# Import datasets, classifiers and performance metrics\n",
    "from sklearn import svm, metrics\n",
    "from sklearn.utils import shuffle\n",
    "from sklearn.model_selection import train_test_split\n",
    "from sklearn.model_selection import GridSearchCV\n",
    "from sklearn.metrics import make_scorer, accuracy_score\n",
    "\n",
    "\n",
    "%matplotlib inline\n",
    "\n",
    "# setting user chosen vars\n",
    "images_dir = './new_dataset'\n",
    "labels_filename = 'attribute_list.csv'\n",
    "# user choses grey scale or not, 0 for yes, 1 for no\n",
    "grey_scale = 1\n"
   ]
  },
  {
   "cell_type": "markdown",
   "metadata": {},
   "source": [
    "data_preprocessing: \n",
    "- https://datascience.stackexchange.com/questions/26881/data-preprocessing-should-we-normalise-images-pixel-wise\n",
    "- https://stackoverflow.com/questions/41428868/image-preprocessing-in-deep-learning\n",
    "- https://becominghuman.ai/image-data-pre-processing-for-neural-networks-498289068258\n",
    "- https://stackoverflow.com/questions/50584353/image-mean-subtraction/50585147 - mean subtraction\n",
    "\n",
    "- image rescaling (zooming) will not be necessary as the frontal faces are all zommed in already and cover the full frontal face without any further processing needed. It is true however that some images do contain some abnormal noise in the background, behind the faces (or even occlusive elemnts on the face itself - like watermarks or arms covering part of the mouth and such)"
   ]
  },
  {
   "cell_type": "code",
   "execution_count": 2,
   "metadata": {},
   "outputs": [
    {
     "name": "stdout",
     "output_type": "stream",
     "text": [
      "full dataset of shape: (4546, 128, 128, 3)\n",
      "full labels of shape: (4546,)\n"
     ]
    }
   ],
   "source": [
    "# Import whole pre-processed Dataset (training and test)\n",
    "\n",
    "# lists keep the order\n",
    "full_dataset = []\n",
    "full_labels = []\n",
    "\n",
    "# collect labels\n",
    "df = pd.read_csv(labels_filename, skiprows=1, index_col='file_name')\n",
    "newdf = df[df.columns[2]] \n",
    "\n",
    "# collect pre-processed images and sort them to labels\n",
    "for (root, dirs, dat_files) in os.walk('{0}'.format(images_dir)):\n",
    "     \n",
    "    for file in dat_files:\n",
    "        # image grayscaling at import\n",
    "        img = cv2.imread('{0}/{1}'.format(images_dir, file), grey_scale)\n",
    "        # image equalisation\n",
    "        # rescaling image (you can use cv2)\n",
    "        res = cv2.resize(img, dsize=(128, 128), interpolation=cv2.INTER_LINEAR)\n",
    "        # turn to float for zero centering\n",
    "        res = res.astype(float)\n",
    "        full_dataset.append(res)\n",
    "        full_labels.append(int(file[:-4]))\n",
    "\n",
    "# only select rows of interest (none outliers) and only keep 'smiling' feature to be evaluated\n",
    "full_labels = newdf.loc[full_labels]\n",
    "full_labels = full_labels.values.tolist() \n",
    "\n",
    "# now both of our dataset and labels are ordered \n",
    "\n",
    "# numpy array conversion\n",
    "full_dataset = np.array(full_dataset)\n",
    "full_labels = np.array(full_labels)\n",
    "\n",
    "print('full dataset of shape:', full_dataset.shape)\n",
    "print('full labels of shape:', full_labels.shape)"
   ]
  },
  {
   "cell_type": "code",
   "execution_count": 3,
   "metadata": {},
   "outputs": [
    {
     "data": {
      "text/plain": [
       "array([[[ 255.,  255.,  255.],\n",
       "        [ 255.,  255.,  255.],\n",
       "        [ 255.,  255.,  255.],\n",
       "        ..., \n",
       "        [ 255.,  255.,  255.],\n",
       "        [ 255.,  255.,  255.],\n",
       "        [ 255.,  255.,  255.]],\n",
       "\n",
       "       [[ 255.,  255.,  255.],\n",
       "        [ 255.,  255.,  255.],\n",
       "        [ 255.,  255.,  255.],\n",
       "        ..., \n",
       "        [ 255.,  255.,  255.],\n",
       "        [ 255.,  255.,  255.],\n",
       "        [ 255.,  255.,  255.]],\n",
       "\n",
       "       [[ 255.,  255.,  255.],\n",
       "        [ 255.,  255.,  255.],\n",
       "        [ 255.,  255.,  255.],\n",
       "        ..., \n",
       "        [ 255.,  255.,  255.],\n",
       "        [ 255.,  255.,  255.],\n",
       "        [ 255.,  255.,  255.]],\n",
       "\n",
       "       ..., \n",
       "       [[ 255.,  255.,  255.],\n",
       "        [ 255.,  255.,  255.],\n",
       "        [ 255.,  255.,  255.],\n",
       "        ..., \n",
       "        [ 255.,  255.,  255.],\n",
       "        [ 255.,  255.,  255.],\n",
       "        [ 255.,  255.,  255.]],\n",
       "\n",
       "       [[ 255.,  255.,  255.],\n",
       "        [ 255.,  255.,  255.],\n",
       "        [ 255.,  255.,  255.],\n",
       "        ..., \n",
       "        [ 255.,  255.,  255.],\n",
       "        [ 255.,  255.,  255.],\n",
       "        [ 255.,  255.,  255.]],\n",
       "\n",
       "       [[ 255.,  255.,  255.],\n",
       "        [ 255.,  255.,  255.],\n",
       "        [ 255.,  255.,  255.],\n",
       "        ..., \n",
       "        [ 255.,  255.,  255.],\n",
       "        [ 255.,  255.,  255.],\n",
       "        [ 255.,  255.,  255.]]])"
      ]
     },
     "execution_count": 3,
     "metadata": {},
     "output_type": "execute_result"
    }
   ],
   "source": [
    "# plt.imshow(full_dataset[0])\n",
    "full_dataset[0]"
   ]
  },
  {
   "cell_type": "code",
   "execution_count": 4,
   "metadata": {},
   "outputs": [
    {
     "name": "stdout",
     "output_type": "stream",
     "text": [
      "X_data of shape: (4546, 128, 128, 3)\n",
      "Y_data of shape: (4546,)\n"
     ]
    }
   ],
   "source": [
    "# Reshuffling data (for extra randomness)\n",
    "X_data, Y_data = shuffle(full_dataset, full_labels, random_state=0)\n",
    "\n",
    "print('X_data of shape:', X_data.shape)\n",
    "print('Y_data of shape:', Y_data.shape)"
   ]
  },
  {
   "cell_type": "markdown",
   "metadata": {},
   "source": [
    "- https://towardsdatascience.com/train-validation-and-test-sets-72cb40cba9e7"
   ]
  },
  {
   "cell_type": "code",
   "execution_count": 5,
   "metadata": {},
   "outputs": [
    {
     "name": "stdout",
     "output_type": "stream",
     "text": [
      "X_train of shape: (2908, 128, 128, 3)\n",
      "y_train of shape: (2908,)\n",
      "X_val of shape: (728, 128, 128, 3)\n",
      "y_val of shape: (728,)\n",
      "X_test of shape: (910, 128, 128, 3)\n",
      "y_test of shape: (910,)\n"
     ]
    }
   ],
   "source": [
    "# perform train and test split (random state set to 1 to ensure same distribution accross different sets)\n",
    "# this split is obviously case specific! but cross validation allows us to avoid over-fitting so lets make sure we have a validation set ready.\n",
    "# Since the dataset is not extrememly large i'll be using a 60/20/20 split, meaning more or less 1000 validation and test examples and 3000 training examples, to be tested: 75/10/15\n",
    "# in this case we are a little less concerned since we are evaluating smiles which are present in every case, unlike glasses \n",
    "X_train, X_test, y_train, y_test = train_test_split(X_data, Y_data, test_size=0.2, random_state=1)\n",
    "X_train, X_val, y_train, y_val = train_test_split(X_train, y_train, test_size=0.2, random_state=1)\n",
    "\n",
    "# sanity check\n",
    "print('X_train of shape:', X_train.shape)\n",
    "print('y_train of shape:', y_train.shape)\n",
    "print('X_val of shape:', X_val.shape)\n",
    "print('y_val of shape:', y_val.shape)\n",
    "print('X_test of shape:', X_test.shape)\n",
    "print('y_test of shape:', y_test.shape)"
   ]
  },
  {
   "cell_type": "code",
   "execution_count": 6,
   "metadata": {},
   "outputs": [
    {
     "name": "stdout",
     "output_type": "stream",
     "text": [
      "X_train of shape: (2908, 49152)\n",
      "X_val of shape: (728, 49152)\n",
      "X_test of shape: (910, 49152)\n",
      "[ 187.0849381   190.80914718  194.27063274  188.85350757  192.59731774\n",
      "  196.07255846  189.66093535  193.36176066  196.85591472  190.05570839]\n"
     ]
    },
    {
     "data": {
      "image/png": "[encoded data removed]",
      "text/plain": [
       "<matplotlib.figure.Figure at 0x1135a2048>"
      ]
     },
     "metadata": {},
     "output_type": "display_data"
    }
   ],
   "source": [
    "# Preprocessing: reshape the image data into rows\n",
    "X_train = np.reshape(X_train, (X_train.shape[0], -1))\n",
    "X_val = np.reshape(X_val, (X_val.shape[0], -1))\n",
    "X_test = np.reshape(X_test, (X_test.shape[0], -1))\n",
    "\n",
    "# sanity check\n",
    "print('X_train of shape:', X_train.shape)\n",
    "print('X_val of shape:', X_val.shape)\n",
    "print('X_test of shape:', X_test.shape)\n",
    "\n",
    "# Preprocessing: subtract the mean image\n",
    "# first: compute the image mean based on the training data\n",
    "mean_image = np.mean(X_train, axis=0)\n",
    "print(mean_image[:10]) # print a few of the elements\n",
    "plt.figure(figsize=(4,4))\n",
    "plt.imshow(mean_image.reshape((128,128,3)).astype('uint8')) # visualize the mean image\n",
    "plt.show()"
   ]
  },
  {
   "cell_type": "code",
   "execution_count": 7,
   "metadata": {},
   "outputs": [],
   "source": [
    "# second: subtract the mean image from train and test data\n",
    "X_train -= mean_image\n",
    "X_val -= mean_image\n",
    "X_test -= mean_image"
   ]
  },
  {
   "cell_type": "code",
   "execution_count": 8,
   "metadata": {},
   "outputs": [
    {
     "name": "stdout",
     "output_type": "stream",
     "text": [
      "Start learning at 2018-12-26 17:05:28.779253\n",
      "Stop learning 2018-12-26 17:09:21.441722\n",
      "Elapsed learning 0:03:52.662469\n"
     ]
    }
   ],
   "source": [
    "classifier = svm.SVC(C=1, kernel='linear',cache_size=8000,probability=False)\n",
    "\n",
    "start_time = dt.datetime.now()\n",
    "print('Start learning at {}'.format(str(start_time)))\n",
    "\n",
    "classifier.fit(X_train, y_train)\n",
    "\n",
    "end_time = dt.datetime.now() \n",
    "print('Stop learning {}'.format(str(end_time)))\n",
    "elapsed_time= end_time - start_time\n",
    "print('Elapsed learning {}'.format(str(elapsed_time)))"
   ]
  },
  {
   "cell_type": "code",
   "execution_count": 9,
   "metadata": {},
   "outputs": [
    {
     "name": "stdout",
     "output_type": "stream",
     "text": [
      "Classification report for classifier SVC(C=1, cache_size=8000, class_weight=None, coef0=0.0,\n",
      "  decision_function_shape='ovr', degree=3, gamma='auto', kernel='linear',\n",
      "  max_iter=-1, probability=False, random_state=None, shrinking=True,\n",
      "  tol=0.001, verbose=False):\n",
      "             precision    recall  f1-score   support\n",
      "\n",
      "         -1       0.73      0.80      0.76       177\n",
      "          1       0.95      0.93      0.94       733\n",
      "\n",
      "avg / total       0.91      0.90      0.91       910\n",
      "\n",
      "\n",
      "Confusion matrix:\n",
      "[[142  35]\n",
      " [ 53 680]]\n",
      "Accuracy=0.9032967032967033\n"
     ]
    }
   ],
   "source": [
    "# Now predict the value of the test\n",
    "expected = y_test\n",
    "predicted = classifier.predict(X_test)\n",
    "\n",
    "\n",
    "print(\"Classification report for classifier %s:\\n%s\\n\"\n",
    "      % (classifier, metrics.classification_report(expected, predicted)))\n",
    "      \n",
    "cm = metrics.confusion_matrix(expected, predicted)\n",
    "print(\"Confusion matrix:\\n%s\" % cm)\n",
    "\n",
    "# plot_confusion_matrix(cm)\n",
    "\n",
    "print(\"Accuracy={}\".format(metrics.accuracy_score(expected, predicted)))"
   ]
  },
  {
   "cell_type": "markdown",
   "metadata": {},
   "source": [
    "This was a good first try, let us now proceed to a grid search for hyper-parameterisation, these best parameters will then be used for Kfold validation. Reminder: our dataset is not extremely large so we need to proceed with caution when it comes to train / validation / test separation. We also need to make sure that the latter have the same sort of distribution for best results. It comes without saying that the split should always be the same accross experiments. Moreover, the size of the validation and test sets should be big enough for results to be representative of the performance of our model. The validation set will be taken off of our training set, the latter will be used for hyperparameterization. The test set is not used for the latter to avoid obvious overfitting, which i'm pretty sure a lot of people will have forgotten about (common pitfall). The test set will be used for inference once we have found our ideal parameters and hyper-params for our classifier/model."
   ]
  },
  {
   "cell_type": "code",
   "execution_count": 9,
   "metadata": {},
   "outputs": [],
   "source": [
    "# creating dummy SVM classifier for hyperparameterization\n",
    "classifier = svm.SVC()"
   ]
  },
  {
   "cell_type": "code",
   "execution_count": null,
   "metadata": {},
   "outputs": [
    {
     "name": "stdout",
     "output_type": "stream",
     "text": [
      "Start grid search at 2018-12-26 19:28:29.852039\n"
     ]
    }
   ],
   "source": [
    "n_folds = 5\n",
    "# choosing different parameter combinations to try\n",
    "param_grid = {'C': [0.01, 0.1, 1, 10], \n",
    "              'gamma': [0.00002, 0.0001, 0.001, 0.01],\n",
    "              'kernel': ['rbf', 'linear'],\n",
    "             }\n",
    "\n",
    "# type of scoring used to compare parameter combinations\n",
    "acc_scorer = make_scorer(accuracy_score)\n",
    "\n",
    "\n",
    "# run grid search\n",
    "start_time = dt.datetime.now()\n",
    "print('Start grid search at {}'.format(str(start_time)))\n",
    "\n",
    "grid_search = GridSearchCV(classifier, param_grid, cv=n_folds, scoring=acc_scorer, n_jobs=4)\n",
    "grid_obj = grid_search.fit(X_train, y_train)\n",
    "\n",
    "# set the best classifier found for rbf\n",
    "clf = grid_obj.best_estimator_\n",
    "\n",
    "end_time = dt.datetime.now() \n",
    "print('Stop grid search {}'.format(str(end_time)))\n",
    "elapsed_time= end_time - start_time\n",
    "print('Elapsed grid search time {}'.format(str(elapsed_time)))\n",
    "\n",
    "\n",
    "# fit the best alg to the training data\n",
    "start_time = dt.datetime.now()\n",
    "print('Start learning with best params at {}'.format(str(start_time)))\n",
    "\n",
    "clf.fit(X_train, y_train)\n",
    "\n",
    "end_time = dt.datetime.now() \n",
    "print('Stop learning {}'.format(str(end_time)))\n",
    "elapsed_time= end_time - start_time\n",
    "print('Elapsed learning time {}'.format(str(elapsed_time)))\n",
    "\n",
    "\n",
    "# predict using validation set\n",
    "predictions = clf.predict(X_val)\n",
    "print(accuracy_score(y_val, predictions))"
   ]
  },
  {
   "cell_type": "code",
   "execution_count": 12,
   "metadata": {},
   "outputs": [],
   "source": [
    "# get cv_results from grid_obj"
   ]
  },
  {
   "cell_type": "code",
   "execution_count": null,
   "metadata": {},
   "outputs": [],
   "source": [
    "# do actual inference with test data"
   ]
  }
 ],
 "metadata": {
  "anaconda-cloud": {},
  "kernelspec": {
   "display_name": "Python [default]",
   "language": "python",
   "name": "python3"
  },
  "language_info": {
   "codemirror_mode": {
    "name": "ipython",
    "version": 3
   },
   "file_extension": ".py",
   "mimetype": "text/x-python",
   "name": "python",
   "nbconvert_exporter": "python",
   "pygments_lexer": "ipython3",
   "version": "3.5.2"
  }
 },
 "nbformat": 4,
 "nbformat_minor": 1
}
