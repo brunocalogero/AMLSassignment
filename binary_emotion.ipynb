{
 "cells": [
  {
   "cell_type": "markdown",
   "metadata": {},
   "source": [
    "# Binary Task - Emotion Recognition"
   ]
  },
  {
   "cell_type": "code",
   "execution_count": 45,
   "metadata": {},
   "outputs": [],
   "source": [
    "import time\n",
    "import os\n",
    "import cv2\n",
    "\n",
    "import datetime as dt\n",
    "import pandas as pd\n",
    "import matplotlib.pyplot as plt\n",
    "import numpy as np\n",
    "\n",
    "# Import datasets, classifiers and performance metrics\n",
    "from sklearn import svm, metrics\n",
    "from sklearn.utils import shuffle\n",
    "from sklearn.model_selection import train_test_split\n",
    "\n",
    "%matplotlib inline\n",
    "\n",
    "# setting user chosen vars\n",
    "images_dir = './new_dataset'\n",
    "labels_filename = 'attribute_list.csv'\n",
    "# user choses grey scale or not, 0 for yes, 1 for no\n",
    "grey_scale = 1\n"
   ]
  },
  {
   "cell_type": "markdown",
   "metadata": {},
   "source": [
    "data_preprocessing: \n",
    "- https://datascience.stackexchange.com/questions/26881/data-preprocessing-should-we-normalise-images-pixel-wise\n",
    "- https://stackoverflow.com/questions/41428868/image-preprocessing-in-deep-learning\n",
    "- https://becominghuman.ai/image-data-pre-processing-for-neural-networks-498289068258\n",
    "- https://stackoverflow.com/questions/50584353/image-mean-subtraction/50585147 - mean subtraction\n",
    "\n",
    "- image rescaling (zooming) will not be necessary as the frontal faces are all zommed in already and cover the full frontal face without any further processing needed. It is true however that some images do contain some abnormal noise in the background, behind the faces (or even occlusive elemnts on the face itself - like watermarks or arms covering part of the mouth and such)"
   ]
  },
  {
   "cell_type": "code",
   "execution_count": 46,
   "metadata": {},
   "outputs": [
    {
     "name": "stdout",
     "output_type": "stream",
     "text": [
      "full dataset of shape: (4546, 128, 128, 3)\n",
      "full labels of shape: (4546,)\n"
     ]
    }
   ],
   "source": [
    "# Import whole pre-processed Dataset (training and test)\n",
    "\n",
    "# lists keep the order\n",
    "full_dataset = []\n",
    "full_labels = []\n",
    "\n",
    "# collect labels\n",
    "df = pd.read_csv(labels_filename, skiprows=1, index_col='file_name')\n",
    "newdf = df[df.columns[2]] \n",
    "\n",
    "# collect pre-processed images and sort them to labels\n",
    "for (root, dirs, dat_files) in os.walk('{0}'.format(images_dir)):\n",
    "     \n",
    "    for file in dat_files:\n",
    "        # image grayscaling at import\n",
    "        img = cv2.imread('{0}/{1}'.format(images_dir, file), grey_scale)\n",
    "        # image equalisation\n",
    "        # rescaling image (you can use cv2)\n",
    "        res = cv2.resize(img, dsize=(128, 128), interpolation=cv2.INTER_LINEAR)\n",
    "        # turn to float for zero centering\n",
    "        res = res.astype(float)\n",
    "        full_dataset.append(res)\n",
    "        full_labels.append(int(file[:-4]))\n",
    "\n",
    "# only select rows of interest (none outliers) and only keep 'smiling' feature to be evaluated\n",
    "full_labels = newdf.loc[full_labels]\n",
    "full_labels = full_labels.values.tolist() \n",
    "\n",
    "# now both of our dataset and labels are ordered \n",
    "\n",
    "# numpy array conversion\n",
    "full_dataset = np.array(full_dataset)\n",
    "full_labels = np.array(full_labels)\n",
    "\n",
    "print('full dataset of shape:', full_dataset.shape)\n",
    "print('full labels of shape:', full_labels.shape)"
   ]
  },
  {
   "cell_type": "code",
   "execution_count": 47,
   "metadata": {},
   "outputs": [
    {
     "data": {
      "text/plain": [
       "array([[[ 255.,  255.,  255.],\n",
       "        [ 255.,  255.,  255.],\n",
       "        [ 255.,  255.,  255.],\n",
       "        ..., \n",
       "        [ 255.,  255.,  255.],\n",
       "        [ 255.,  255.,  255.],\n",
       "        [ 255.,  255.,  255.]],\n",
       "\n",
       "       [[ 255.,  255.,  255.],\n",
       "        [ 255.,  255.,  255.],\n",
       "        [ 255.,  255.,  255.],\n",
       "        ..., \n",
       "        [ 255.,  255.,  255.],\n",
       "        [ 255.,  255.,  255.],\n",
       "        [ 255.,  255.,  255.]],\n",
       "\n",
       "       [[ 255.,  255.,  255.],\n",
       "        [ 255.,  255.,  255.],\n",
       "        [ 255.,  255.,  255.],\n",
       "        ..., \n",
       "        [ 255.,  255.,  255.],\n",
       "        [ 255.,  255.,  255.],\n",
       "        [ 255.,  255.,  255.]],\n",
       "\n",
       "       ..., \n",
       "       [[ 255.,  255.,  255.],\n",
       "        [ 255.,  255.,  255.],\n",
       "        [ 255.,  255.,  255.],\n",
       "        ..., \n",
       "        [ 255.,  255.,  255.],\n",
       "        [ 255.,  255.,  255.],\n",
       "        [ 255.,  255.,  255.]],\n",
       "\n",
       "       [[ 255.,  255.,  255.],\n",
       "        [ 255.,  255.,  255.],\n",
       "        [ 255.,  255.,  255.],\n",
       "        ..., \n",
       "        [ 255.,  255.,  255.],\n",
       "        [ 255.,  255.,  255.],\n",
       "        [ 255.,  255.,  255.]],\n",
       "\n",
       "       [[ 255.,  255.,  255.],\n",
       "        [ 255.,  255.,  255.],\n",
       "        [ 255.,  255.,  255.],\n",
       "        ..., \n",
       "        [ 255.,  255.,  255.],\n",
       "        [ 255.,  255.,  255.],\n",
       "        [ 255.,  255.,  255.]]])"
      ]
     },
     "execution_count": 47,
     "metadata": {},
     "output_type": "execute_result"
    }
   ],
   "source": [
    "# plt.imshow(full_dataset[0])\n",
    "full_dataset[0]"
   ]
  },
  {
   "cell_type": "code",
   "execution_count": 48,
   "metadata": {},
   "outputs": [
    {
     "name": "stdout",
     "output_type": "stream",
     "text": [
      "X_data of shape: (4546, 128, 128, 3)\n",
      "Y_data of shape: (4546,)\n"
     ]
    }
   ],
   "source": [
    "# Reshuffling data (just in case)\n",
    "X_data, Y_data = shuffle(full_dataset, full_labels, random_state=0)\n",
    "\n",
    "print('X_data of shape:', X_data.shape)\n",
    "print('Y_data of shape:', Y_data.shape)"
   ]
  },
  {
   "cell_type": "code",
   "execution_count": 50,
   "metadata": {},
   "outputs": [
    {
     "name": "stdout",
     "output_type": "stream",
     "text": [
      "X_train of shape: (3636, 128, 128, 3)\n",
      "y_train of shape: (3636,)\n",
      "X_test of shape: (910, 128, 128, 3)\n",
      "y_test of shape: (910,)\n"
     ]
    }
   ],
   "source": [
    "# perform train and test split\n",
    "X_train, X_test, y_train, y_test = train_test_split(X_data, Y_data, test_size=0.2)\n",
    "\n",
    "print('X_train of shape:', X_train.shape)\n",
    "print('y_train of shape:', y_train.shape)\n",
    "print('X_test of shape:', X_test.shape)\n",
    "print('y_test of shape:', y_test.shape)"
   ]
  },
  {
   "cell_type": "code",
   "execution_count": 51,
   "metadata": {},
   "outputs": [
    {
     "name": "stdout",
     "output_type": "stream",
     "text": [
      "X_train of shape: (3636, 49152)\n",
      "X_test of shape: (910, 49152)\n",
      "[ 255.  255.  255. ...,  255.  255.  255.]\n",
      "[ 188.33525853  191.92821782  195.74834983  190.01705171  193.60011001\n",
      "  197.52310231  190.97992299  194.62046205  198.56710671  191.48239824]\n"
     ]
    },
    {
     "data": {
      "image/png": "[encoded data removed]",
      "text/plain": [
       "<Figure size 288x288 with 1 Axes>"
      ]
     },
     "metadata": {
      "needs_background": "light"
     },
     "output_type": "display_data"
    }
   ],
   "source": [
    "# Preprocessing: reshape the image data into rows\n",
    "X_train = np.reshape(X_train, (X_train.shape[0], -1))\n",
    "X_test = np.reshape(X_test, (X_test.shape[0], -1))\n",
    "\n",
    "print('X_train of shape:', X_train.shape)\n",
    "print('X_test of shape:', X_test.shape)\n",
    "\n",
    "print(X_train[0])\n",
    "\n",
    "# Preprocessing: subtract the mean image\n",
    "# first: compute the image mean based on the training data\n",
    "mean_image = np.mean(X_train, axis=0)\n",
    "print(mean_image[:10]) # print a few of the elements\n",
    "plt.figure(figsize=(4,4))\n",
    "plt.imshow(mean_image.reshape((128,128,3)).astype('uint8')) # visualize the mean image\n",
    "plt.show()"
   ]
  },
  {
   "cell_type": "code",
   "execution_count": 52,
   "metadata": {},
   "outputs": [
    {
     "name": "stdout",
     "output_type": "stream",
     "text": [
      "(49152,)\n",
      "[[  66.66474147   63.07178218   59.25165017 ...,   74.41721672\n",
      "    71.63778878   65.98184818]\n",
      " [  66.66474147   63.07178218   59.25165017 ...,   74.41721672\n",
      "    71.63778878   65.98184818]\n",
      " [  66.66474147   63.07178218   59.25165017 ...,   74.41721672\n",
      "    71.63778878   65.98184818]\n",
      " ..., \n",
      " [  66.66474147   63.07178218   59.25165017 ...,   74.41721672\n",
      "    71.63778878   65.98184818]\n",
      " [  66.66474147   63.07178218   59.25165017 ...,   74.41721672\n",
      "    71.63778878   65.98184818]\n",
      " [-137.33525853  -53.92821782  -11.74834983 ..., -102.58278328\n",
      "  -114.36221122 -109.01815182]]\n"
     ]
    }
   ],
   "source": [
    "# second: subtract the mean image from train and test data\n",
    "print(mean_image.shape)\n",
    "X_train -= mean_image\n",
    "X_test -= mean_image\n",
    "print(X_train)"
   ]
  },
  {
   "cell_type": "code",
   "execution_count": null,
   "metadata": {},
   "outputs": [
    {
     "name": "stdout",
     "output_type": "stream",
     "text": [
      "Start learning at 2018-12-26 16:51:02.117678\n"
     ]
    }
   ],
   "source": [
    "classifier = svm.SVC(C=1, kernel='linear',cache_size=8000,probability=False)\n",
    "\n",
    "start_time = dt.datetime.now()\n",
    "print('Start learning at {}'.format(str(start_time)))\n",
    "\n",
    "classifier.fit(X_train, y_train)\n",
    "\n",
    "end_time = dt.datetime.now() \n",
    "print('Stop learning {}'.format(str(end_time)))\n",
    "elapsed_time= end_time - start_time\n",
    "print('Elapsed learning {}'.format(str(elapsed_time)))"
   ]
  },
  {
   "cell_type": "code",
   "execution_count": null,
   "metadata": {},
   "outputs": [],
   "source": [
    "# Now predict the value of the test\n",
    "expected = y_test\n",
    "predicted = classifier.predict(X_test)\n",
    "\n",
    "\n",
    "print(\"Classification report for classifier %s:\\n%s\\n\"\n",
    "      % (classifier, metrics.classification_report(expected, predicted)))\n",
    "      \n",
    "cm = metrics.confusion_matrix(expected, predicted)\n",
    "print(\"Confusion matrix:\\n%s\" % cm)\n",
    "\n",
    "# plot_confusion_matrix(cm)\n",
    "\n",
    "print(\"Accuracy={}\".format(metrics.accuracy_score(expected, predicted)))"
   ]
  },
  {
   "cell_type": "code",
   "execution_count": null,
   "metadata": {},
   "outputs": [],
   "source": []
  }
 ],
 "metadata": {
  "anaconda-cloud": {},
  "kernelspec": {
   "display_name": "Python [conda env:tensorflow]",
   "language": "python",
   "name": "conda-env-tensorflow-py"
  },
  "language_info": {
   "codemirror_mode": {
    "name": "ipython",
    "version": 3
   },
   "file_extension": ".py",
   "mimetype": "text/x-python",
   "name": "python",
   "nbconvert_exporter": "python",
   "pygments_lexer": "ipython3",
   "version": "3.5.6"
  }
 },
 "nbformat": 4,
 "nbformat_minor": 1
}
